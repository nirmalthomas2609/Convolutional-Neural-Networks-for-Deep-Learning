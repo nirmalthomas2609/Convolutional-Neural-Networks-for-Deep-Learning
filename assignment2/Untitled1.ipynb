{
 "cells": [
  {
   "cell_type": "code",
   "execution_count": 1,
   "metadata": {
    "collapsed": true
   },
   "outputs": [],
   "source": [
    "import glob\n"
   ]
  },
  {
   "cell_type": "code",
   "execution_count": 3,
   "metadata": {},
   "outputs": [
    {
     "name": "stdout",
     "output_type": "stream",
     "text": [
      "cs231n/im2col_cython.c\n",
      "cs231n/layers.py\n",
      "cs231n/setup.py\n",
      "cs231n/layer_utils.py\n",
      "cs231n/im2col_cython.pyx\n",
      "cs231n/__init__.py\n",
      "cs231n/vis_utils.py\n",
      "cs231n/im2col_cython.cpython-35m-x86_64-linux-gnu.so\n",
      "cs231n/optim.py\n",
      "cs231n/data_utils.py\n",
      "cs231n/build\n",
      "cs231n/gradient_check.py\n",
      "cs231n/solver.py\n",
      "cs231n/classifiers\n",
      "cs231n/im2col.py\n",
      "cs231n/im2col_cython.so\n",
      "cs231n/fast_layers.py\n",
      "cs231n/datasets\n",
      "cs231n/__pycache__\n"
     ]
    }
   ],
   "source": [
    "for name in glob.glob('cs231n/*'):\n",
    "    print (name)"
   ]
  },
  {
   "cell_type": "code",
   "execution_count": 4,
   "metadata": {},
   "outputs": [
    {
     "ename": "ImportError",
     "evalue": "No module named 'cv2'",
     "output_type": "error",
     "traceback": [
      "\u001b[0;31m---------------------------------------------------------------------------\u001b[0m",
      "\u001b[0;31mImportError\u001b[0m                               Traceback (most recent call last)",
      "\u001b[0;32m<ipython-input-4-72fbbcfe2587>\u001b[0m in \u001b[0;36m<module>\u001b[0;34m()\u001b[0m\n\u001b[0;32m----> 1\u001b[0;31m \u001b[0;32mimport\u001b[0m \u001b[0mcv2\u001b[0m\u001b[0;34m\u001b[0m\u001b[0m\n\u001b[0m",
      "\u001b[0;31mImportError\u001b[0m: No module named 'cv2'"
     ]
    }
   ],
   "source": [
    "import cv2"
   ]
  },
  {
   "cell_type": "code",
   "execution_count": null,
   "metadata": {
    "collapsed": true
   },
   "outputs": [],
   "source": []
  }
 ],
 "metadata": {
  "kernelspec": {
   "display_name": "Python 3",
   "language": "python",
   "name": "python3"
  },
  "language_info": {
   "codemirror_mode": {
    "name": "ipython",
    "version": 3
   },
   "file_extension": ".py",
   "mimetype": "text/x-python",
   "name": "python",
   "nbconvert_exporter": "python",
   "pygments_lexer": "ipython3",
   "version": "3.5.2"
  }
 },
 "nbformat": 4,
 "nbformat_minor": 2
}
